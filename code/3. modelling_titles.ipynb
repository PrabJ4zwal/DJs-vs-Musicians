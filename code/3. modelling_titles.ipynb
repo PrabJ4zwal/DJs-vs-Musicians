{
 "cells": [
  {
   "cell_type": "markdown",
   "id": "8f74f18f-f915-4bfb-982f-b09558c2f455",
   "metadata": {},
   "source": [
    "# Imports"
   ]
  },
  {
   "cell_type": "code",
   "execution_count": 33,
   "id": "20127baa-9f84-41e2-8bd1-25e29bc0dd46",
   "metadata": {},
   "outputs": [],
   "source": [
    "import pandas as pd\n",
    "import matplotlib.pyplot as plt\n",
    "from sklearn.model_selection import train_test_split, GridSearchCV\n",
    "from sklearn.pipeline import Pipeline\n",
    "from sklearn.naive_bayes import MultinomialNB\n",
    "from sklearn.linear_model import LogisticRegression\n",
    "from sklearn.metrics import ConfusionMatrixDisplay, RocCurveDisplay, confusion_matrix, classification_report\n",
    "# Import CountVectorizer and TFIDFVectorizer from feature_extraction.text.\n",
    "from sklearn.feature_extraction.text import CountVectorizer, TfidfVectorizer"
   ]
  },
  {
   "cell_type": "code",
   "execution_count": 2,
   "id": "759a683a-4eb8-4624-9f12-5bff71edae29",
   "metadata": {},
   "outputs": [
    {
     "name": "stdout",
     "output_type": "stream",
     "text": [
      "<class 'pandas.core.frame.DataFrame'>\n",
      "RangeIndex: 4430 entries, 0 to 4429\n",
      "Data columns (total 4 columns):\n",
      " #   Column           Non-Null Count  Dtype \n",
      "---  ------           --------------  ----- \n",
      " 0   Unnamed: 0       4430 non-null   int64 \n",
      " 1   title            4430 non-null   object\n",
      " 2   subreddit        4430 non-null   object\n",
      " 3   processed_title  4404 non-null   object\n",
      "dtypes: int64(1), object(3)\n",
      "memory usage: 138.6+ KB\n"
     ]
    }
   ],
   "source": [
    "titles = pd.read_csv('../data/processed_titles.csv')\n",
    "titles.info()"
   ]
  },
  {
   "cell_type": "code",
   "execution_count": 4,
   "id": "9b052e5a-1c54-431d-ab52-3b79964e15a6",
   "metadata": {
    "scrolled": true
   },
   "outputs": [],
   "source": [
    "titles.dropna(inplace = True)"
   ]
  },
  {
   "cell_type": "markdown",
   "id": "5a6f2454-b36c-43ed-b7c1-8b2c54f3fab9",
   "metadata": {},
   "source": [
    "# TrainTestSpliting"
   ]
  },
  {
   "cell_type": "code",
   "execution_count": 6,
   "id": "2833fb6e-9d62-4fa7-ac59-0e589601975f",
   "metadata": {},
   "outputs": [],
   "source": [
    "# Creating a binarized target column musicians:0, DJs:1\n",
    "titles['labels'] = titles['subreddit'].map({'musicians':0, 'DJs':1})"
   ]
  },
  {
   "cell_type": "code",
   "execution_count": 7,
   "id": "97e178af-04e7-431e-b06c-351b40784a45",
   "metadata": {},
   "outputs": [],
   "source": [
    "# Creating target(y) and predictor(X) variables\n",
    "ytitles = titles['labels']\n",
    "Xtitles = titles['processed_title']"
   ]
  },
  {
   "cell_type": "code",
   "execution_count": 8,
   "id": "2de4a82d-311f-4791-b944-af340191b401",
   "metadata": {},
   "outputs": [
    {
     "data": {
      "text/plain": [
       "labels\n",
       "1    0.518392\n",
       "0    0.481608\n",
       "Name: proportion, dtype: float64"
      ]
     },
     "execution_count": 8,
     "metadata": {},
     "output_type": "execute_result"
    }
   ],
   "source": [
    "ytitles.value_counts(normalize = True)"
   ]
  },
  {
   "cell_type": "code",
   "execution_count": 9,
   "id": "eac20e11-78f5-41c5-a3b5-6cc7b59afa44",
   "metadata": {},
   "outputs": [],
   "source": [
    "# Split the data into the training and testing sets.\n",
    "Xtitles_train, Xtitles_test, ytitles_train, ytitles_test = train_test_split(Xtitles,\n",
    "                                                    ytitles,\n",
    "                                                    test_size=0.33,\n",
    "                                                    stratify=ytitles,\n",
    "                                                    random_state=42)"
   ]
  },
  {
   "cell_type": "code",
   "execution_count": 88,
   "id": "73ffa469-54b5-48a4-9a3f-f87a76989f27",
   "metadata": {},
   "outputs": [
    {
     "name": "stdout",
     "output_type": "stream",
     "text": [
      "labels\n",
      "1    1529\n",
      "0    1421\n",
      "Name: count, dtype: int64\n",
      "labels\n",
      "1    0.518305\n",
      "0    0.481695\n",
      "Name: proportion, dtype: float64\n",
      "labels\n",
      "1    754\n",
      "0    700\n",
      "Name: count, dtype: int64\n",
      "labels\n",
      "1    0.518569\n",
      "0    0.481431\n",
      "Name: proportion, dtype: float64\n"
     ]
    }
   ],
   "source": [
    "# checking the balance of classes in our data\n",
    "print(ytitles_train.value_counts())\n",
    "print(ytitles_train.value_counts(normalize = True))\n",
    "print(ytitles_test.value_counts())\n",
    "print(ytitles_test.value_counts(normalize = True))"
   ]
  },
  {
   "cell_type": "markdown",
   "id": "4d5ece25-81cb-4aca-99f7-e5d58c8ba8cc",
   "metadata": {},
   "source": [
    "# Modelling titles from r/DJs and r/musicians: Logistic Regression"
   ]
  },
  {
   "cell_type": "markdown",
   "id": "7279f6cf-20df-465a-86d4-20c254c5cc32",
   "metadata": {},
   "source": [
    "**Count Vectorizer and Logistic Regression: Gridsearching over the Pipeline**"
   ]
  },
  {
   "cell_type": "code",
   "execution_count": 58,
   "id": "645d0f70-6b3c-488b-bbe7-70e97687e9b4",
   "metadata": {},
   "outputs": [],
   "source": [
    "titles_pipeline_1 = Pipeline([\n",
    "    ('cvec', CountVectorizer()),\n",
    "    ('lr', LogisticRegression())\n",
    "])"
   ]
  },
  {
   "cell_type": "code",
   "execution_count": 59,
   "id": "dcabfd77-9095-4ed2-9261-a82025e0bf1f",
   "metadata": {},
   "outputs": [],
   "source": [
    "pipe_params = {\n",
    "    'cvec__max_features': [2000, 3000, 4000], # How many words the average person has in their lexicon \n",
    "    'cvec__stop_words': [None, 'english'], \n",
    "    'cvec__min_df': [2, 4], # \n",
    "    'cvec__max_df': [0.99, 0.95, 0.8], \n",
    "    'lr__penalty': ['l1', 'l2', 'elasticnet', None],\n",
    "    'lr__solver': ['liblinear']\n",
    "}"
   ]
  },
  {
   "cell_type": "code",
   "execution_count": 61,
   "id": "b2a94512-deca-4f61-b322-5dcb3ae7e1b8",
   "metadata": {
    "scrolled": true
   },
   "outputs": [
    {
     "name": "stderr",
     "output_type": "stream",
     "text": [
      "/Library/Frameworks/Python.framework/Versions/3.12/lib/python3.12/site-packages/sklearn/linear_model/_logistic.py:469: ConvergenceWarning: lbfgs failed to converge (status=1):\n",
      "STOP: TOTAL NO. of ITERATIONS REACHED LIMIT.\n",
      "\n",
      "Increase the number of iterations (max_iter) or scale the data as shown in:\n",
      "    https://scikit-learn.org/stable/modules/preprocessing.html\n",
      "Please also refer to the documentation for alternative solver options:\n",
      "    https://scikit-learn.org/stable/modules/linear_model.html#logistic-regression\n",
      "  n_iter_i = _check_optimize_result(\n",
      "/Library/Frameworks/Python.framework/Versions/3.12/lib/python3.12/site-packages/sklearn/linear_model/_logistic.py:469: ConvergenceWarning: lbfgs failed to converge (status=1):\n",
      "STOP: TOTAL NO. of ITERATIONS REACHED LIMIT.\n",
      "\n",
      "Increase the number of iterations (max_iter) or scale the data as shown in:\n",
      "    https://scikit-learn.org/stable/modules/preprocessing.html\n",
      "Please also refer to the documentation for alternative solver options:\n",
      "    https://scikit-learn.org/stable/modules/linear_model.html#logistic-regression\n",
      "  n_iter_i = _check_optimize_result(\n",
      "/Library/Frameworks/Python.framework/Versions/3.12/lib/python3.12/site-packages/sklearn/linear_model/_logistic.py:469: ConvergenceWarning: lbfgs failed to converge (status=1):\n",
      "STOP: TOTAL NO. of ITERATIONS REACHED LIMIT.\n",
      "\n",
      "Increase the number of iterations (max_iter) or scale the data as shown in:\n",
      "    https://scikit-learn.org/stable/modules/preprocessing.html\n",
      "Please also refer to the documentation for alternative solver options:\n",
      "    https://scikit-learn.org/stable/modules/linear_model.html#logistic-regression\n",
      "  n_iter_i = _check_optimize_result(\n",
      "/Library/Frameworks/Python.framework/Versions/3.12/lib/python3.12/site-packages/sklearn/linear_model/_logistic.py:469: ConvergenceWarning: lbfgs failed to converge (status=1):\n",
      "STOP: TOTAL NO. of ITERATIONS REACHED LIMIT.\n",
      "\n",
      "Increase the number of iterations (max_iter) or scale the data as shown in:\n",
      "    https://scikit-learn.org/stable/modules/preprocessing.html\n",
      "Please also refer to the documentation for alternative solver options:\n",
      "    https://scikit-learn.org/stable/modules/linear_model.html#logistic-regression\n",
      "  n_iter_i = _check_optimize_result(\n",
      "/Library/Frameworks/Python.framework/Versions/3.12/lib/python3.12/site-packages/sklearn/linear_model/_logistic.py:469: ConvergenceWarning: lbfgs failed to converge (status=1):\n",
      "STOP: TOTAL NO. of ITERATIONS REACHED LIMIT.\n",
      "\n",
      "Increase the number of iterations (max_iter) or scale the data as shown in:\n",
      "    https://scikit-learn.org/stable/modules/preprocessing.html\n",
      "Please also refer to the documentation for alternative solver options:\n",
      "    https://scikit-learn.org/stable/modules/linear_model.html#logistic-regression\n",
      "  n_iter_i = _check_optimize_result(\n",
      "/Library/Frameworks/Python.framework/Versions/3.12/lib/python3.12/site-packages/sklearn/linear_model/_logistic.py:469: ConvergenceWarning: lbfgs failed to converge (status=1):\n",
      "STOP: TOTAL NO. of ITERATIONS REACHED LIMIT.\n",
      "\n",
      "Increase the number of iterations (max_iter) or scale the data as shown in:\n",
      "    https://scikit-learn.org/stable/modules/preprocessing.html\n",
      "Please also refer to the documentation for alternative solver options:\n",
      "    https://scikit-learn.org/stable/modules/linear_model.html#logistic-regression\n",
      "  n_iter_i = _check_optimize_result(\n",
      "/Library/Frameworks/Python.framework/Versions/3.12/lib/python3.12/site-packages/sklearn/linear_model/_logistic.py:469: ConvergenceWarning: lbfgs failed to converge (status=1):\n",
      "STOP: TOTAL NO. of ITERATIONS REACHED LIMIT.\n",
      "\n",
      "Increase the number of iterations (max_iter) or scale the data as shown in:\n",
      "    https://scikit-learn.org/stable/modules/preprocessing.html\n",
      "Please also refer to the documentation for alternative solver options:\n",
      "    https://scikit-learn.org/stable/modules/linear_model.html#logistic-regression\n",
      "  n_iter_i = _check_optimize_result(\n",
      "/Library/Frameworks/Python.framework/Versions/3.12/lib/python3.12/site-packages/sklearn/linear_model/_logistic.py:469: ConvergenceWarning: lbfgs failed to converge (status=1):\n",
      "STOP: TOTAL NO. of ITERATIONS REACHED LIMIT.\n",
      "\n",
      "Increase the number of iterations (max_iter) or scale the data as shown in:\n",
      "    https://scikit-learn.org/stable/modules/preprocessing.html\n",
      "Please also refer to the documentation for alternative solver options:\n",
      "    https://scikit-learn.org/stable/modules/linear_model.html#logistic-regression\n",
      "  n_iter_i = _check_optimize_result(\n",
      "/Library/Frameworks/Python.framework/Versions/3.12/lib/python3.12/site-packages/sklearn/linear_model/_logistic.py:469: ConvergenceWarning: lbfgs failed to converge (status=1):\n",
      "STOP: TOTAL NO. of ITERATIONS REACHED LIMIT.\n",
      "\n",
      "Increase the number of iterations (max_iter) or scale the data as shown in:\n",
      "    https://scikit-learn.org/stable/modules/preprocessing.html\n",
      "Please also refer to the documentation for alternative solver options:\n",
      "    https://scikit-learn.org/stable/modules/linear_model.html#logistic-regression\n",
      "  n_iter_i = _check_optimize_result(\n",
      "/Library/Frameworks/Python.framework/Versions/3.12/lib/python3.12/site-packages/sklearn/linear_model/_logistic.py:469: ConvergenceWarning: lbfgs failed to converge (status=1):\n",
      "STOP: TOTAL NO. of ITERATIONS REACHED LIMIT.\n",
      "\n",
      "Increase the number of iterations (max_iter) or scale the data as shown in:\n",
      "    https://scikit-learn.org/stable/modules/preprocessing.html\n",
      "Please also refer to the documentation for alternative solver options:\n",
      "    https://scikit-learn.org/stable/modules/linear_model.html#logistic-regression\n",
      "  n_iter_i = _check_optimize_result(\n",
      "/Library/Frameworks/Python.framework/Versions/3.12/lib/python3.12/site-packages/sklearn/linear_model/_logistic.py:469: ConvergenceWarning: lbfgs failed to converge (status=1):\n",
      "STOP: TOTAL NO. of ITERATIONS REACHED LIMIT.\n",
      "\n",
      "Increase the number of iterations (max_iter) or scale the data as shown in:\n",
      "    https://scikit-learn.org/stable/modules/preprocessing.html\n",
      "Please also refer to the documentation for alternative solver options:\n",
      "    https://scikit-learn.org/stable/modules/linear_model.html#logistic-regression\n",
      "  n_iter_i = _check_optimize_result(\n",
      "/Library/Frameworks/Python.framework/Versions/3.12/lib/python3.12/site-packages/sklearn/linear_model/_logistic.py:469: ConvergenceWarning: lbfgs failed to converge (status=1):\n",
      "STOP: TOTAL NO. of ITERATIONS REACHED LIMIT.\n",
      "\n",
      "Increase the number of iterations (max_iter) or scale the data as shown in:\n",
      "    https://scikit-learn.org/stable/modules/preprocessing.html\n",
      "Please also refer to the documentation for alternative solver options:\n",
      "    https://scikit-learn.org/stable/modules/linear_model.html#logistic-regression\n",
      "  n_iter_i = _check_optimize_result(\n",
      "/Library/Frameworks/Python.framework/Versions/3.12/lib/python3.12/site-packages/sklearn/linear_model/_logistic.py:469: ConvergenceWarning: lbfgs failed to converge (status=1):\n",
      "STOP: TOTAL NO. of ITERATIONS REACHED LIMIT.\n",
      "\n",
      "Increase the number of iterations (max_iter) or scale the data as shown in:\n",
      "    https://scikit-learn.org/stable/modules/preprocessing.html\n",
      "Please also refer to the documentation for alternative solver options:\n",
      "    https://scikit-learn.org/stable/modules/linear_model.html#logistic-regression\n",
      "  n_iter_i = _check_optimize_result(\n",
      "/Library/Frameworks/Python.framework/Versions/3.12/lib/python3.12/site-packages/sklearn/linear_model/_logistic.py:469: ConvergenceWarning: lbfgs failed to converge (status=1):\n",
      "STOP: TOTAL NO. of ITERATIONS REACHED LIMIT.\n",
      "\n",
      "Increase the number of iterations (max_iter) or scale the data as shown in:\n",
      "    https://scikit-learn.org/stable/modules/preprocessing.html\n",
      "Please also refer to the documentation for alternative solver options:\n",
      "    https://scikit-learn.org/stable/modules/linear_model.html#logistic-regression\n",
      "  n_iter_i = _check_optimize_result(\n",
      "/Library/Frameworks/Python.framework/Versions/3.12/lib/python3.12/site-packages/sklearn/linear_model/_logistic.py:469: ConvergenceWarning: lbfgs failed to converge (status=1):\n",
      "STOP: TOTAL NO. of ITERATIONS REACHED LIMIT.\n",
      "\n",
      "Increase the number of iterations (max_iter) or scale the data as shown in:\n",
      "    https://scikit-learn.org/stable/modules/preprocessing.html\n",
      "Please also refer to the documentation for alternative solver options:\n",
      "    https://scikit-learn.org/stable/modules/linear_model.html#logistic-regression\n",
      "  n_iter_i = _check_optimize_result(\n",
      "/Library/Frameworks/Python.framework/Versions/3.12/lib/python3.12/site-packages/sklearn/linear_model/_logistic.py:469: ConvergenceWarning: lbfgs failed to converge (status=1):\n",
      "STOP: TOTAL NO. of ITERATIONS REACHED LIMIT.\n",
      "\n",
      "Increase the number of iterations (max_iter) or scale the data as shown in:\n",
      "    https://scikit-learn.org/stable/modules/preprocessing.html\n",
      "Please also refer to the documentation for alternative solver options:\n",
      "    https://scikit-learn.org/stable/modules/linear_model.html#logistic-regression\n",
      "  n_iter_i = _check_optimize_result(\n",
      "/Library/Frameworks/Python.framework/Versions/3.12/lib/python3.12/site-packages/sklearn/linear_model/_logistic.py:469: ConvergenceWarning: lbfgs failed to converge (status=1):\n",
      "STOP: TOTAL NO. of ITERATIONS REACHED LIMIT.\n",
      "\n",
      "Increase the number of iterations (max_iter) or scale the data as shown in:\n",
      "    https://scikit-learn.org/stable/modules/preprocessing.html\n",
      "Please also refer to the documentation for alternative solver options:\n",
      "    https://scikit-learn.org/stable/modules/linear_model.html#logistic-regression\n",
      "  n_iter_i = _check_optimize_result(\n",
      "/Library/Frameworks/Python.framework/Versions/3.12/lib/python3.12/site-packages/sklearn/linear_model/_logistic.py:469: ConvergenceWarning: lbfgs failed to converge (status=1):\n",
      "STOP: TOTAL NO. of ITERATIONS REACHED LIMIT.\n",
      "\n",
      "Increase the number of iterations (max_iter) or scale the data as shown in:\n",
      "    https://scikit-learn.org/stable/modules/preprocessing.html\n",
      "Please also refer to the documentation for alternative solver options:\n",
      "    https://scikit-learn.org/stable/modules/linear_model.html#logistic-regression\n",
      "  n_iter_i = _check_optimize_result(\n",
      "/Library/Frameworks/Python.framework/Versions/3.12/lib/python3.12/site-packages/sklearn/model_selection/_validation.py:547: FitFailedWarning: \n",
      "360 fits failed out of a total of 720.\n",
      "The score on these train-test partitions for these parameters will be set to nan.\n",
      "If these failures are not expected, you can try to debug them by setting error_score='raise'.\n",
      "\n",
      "Below are more details about the failures:\n",
      "--------------------------------------------------------------------------------\n",
      "180 fits failed with the following error:\n",
      "Traceback (most recent call last):\n",
      "  File \"/Library/Frameworks/Python.framework/Versions/3.12/lib/python3.12/site-packages/sklearn/model_selection/_validation.py\", line 895, in _fit_and_score\n",
      "    estimator.fit(X_train, y_train, **fit_params)\n",
      "  File \"/Library/Frameworks/Python.framework/Versions/3.12/lib/python3.12/site-packages/sklearn/base.py\", line 1474, in wrapper\n",
      "    return fit_method(estimator, *args, **kwargs)\n",
      "           ^^^^^^^^^^^^^^^^^^^^^^^^^^^^^^^^^^^^^^\n",
      "  File \"/Library/Frameworks/Python.framework/Versions/3.12/lib/python3.12/site-packages/sklearn/pipeline.py\", line 475, in fit\n",
      "    self._final_estimator.fit(Xt, y, **last_step_params[\"fit\"])\n",
      "  File \"/Library/Frameworks/Python.framework/Versions/3.12/lib/python3.12/site-packages/sklearn/base.py\", line 1474, in wrapper\n",
      "    return fit_method(estimator, *args, **kwargs)\n",
      "           ^^^^^^^^^^^^^^^^^^^^^^^^^^^^^^^^^^^^^^\n",
      "  File \"/Library/Frameworks/Python.framework/Versions/3.12/lib/python3.12/site-packages/sklearn/linear_model/_logistic.py\", line 1172, in fit\n",
      "    solver = _check_solver(self.solver, self.penalty, self.dual)\n",
      "             ^^^^^^^^^^^^^^^^^^^^^^^^^^^^^^^^^^^^^^^^^^^^^^^^^^^\n",
      "  File \"/Library/Frameworks/Python.framework/Versions/3.12/lib/python3.12/site-packages/sklearn/linear_model/_logistic.py\", line 67, in _check_solver\n",
      "    raise ValueError(\n",
      "ValueError: Solver lbfgs supports only 'l2' or None penalties, got l1 penalty.\n",
      "\n",
      "--------------------------------------------------------------------------------\n",
      "180 fits failed with the following error:\n",
      "Traceback (most recent call last):\n",
      "  File \"/Library/Frameworks/Python.framework/Versions/3.12/lib/python3.12/site-packages/sklearn/model_selection/_validation.py\", line 895, in _fit_and_score\n",
      "    estimator.fit(X_train, y_train, **fit_params)\n",
      "  File \"/Library/Frameworks/Python.framework/Versions/3.12/lib/python3.12/site-packages/sklearn/base.py\", line 1474, in wrapper\n",
      "    return fit_method(estimator, *args, **kwargs)\n",
      "           ^^^^^^^^^^^^^^^^^^^^^^^^^^^^^^^^^^^^^^\n",
      "  File \"/Library/Frameworks/Python.framework/Versions/3.12/lib/python3.12/site-packages/sklearn/pipeline.py\", line 475, in fit\n",
      "    self._final_estimator.fit(Xt, y, **last_step_params[\"fit\"])\n",
      "  File \"/Library/Frameworks/Python.framework/Versions/3.12/lib/python3.12/site-packages/sklearn/base.py\", line 1474, in wrapper\n",
      "    return fit_method(estimator, *args, **kwargs)\n",
      "           ^^^^^^^^^^^^^^^^^^^^^^^^^^^^^^^^^^^^^^\n",
      "  File \"/Library/Frameworks/Python.framework/Versions/3.12/lib/python3.12/site-packages/sklearn/linear_model/_logistic.py\", line 1172, in fit\n",
      "    solver = _check_solver(self.solver, self.penalty, self.dual)\n",
      "             ^^^^^^^^^^^^^^^^^^^^^^^^^^^^^^^^^^^^^^^^^^^^^^^^^^^\n",
      "  File \"/Library/Frameworks/Python.framework/Versions/3.12/lib/python3.12/site-packages/sklearn/linear_model/_logistic.py\", line 67, in _check_solver\n",
      "    raise ValueError(\n",
      "ValueError: Solver lbfgs supports only 'l2' or None penalties, got elasticnet penalty.\n",
      "\n",
      "  warnings.warn(some_fits_failed_message, FitFailedWarning)\n",
      "/Library/Frameworks/Python.framework/Versions/3.12/lib/python3.12/site-packages/sklearn/model_selection/_search.py:1051: UserWarning: One or more of the test scores are non-finite: [       nan 0.81864407        nan 0.81355932        nan 0.81966102\n",
      "        nan 0.80881356        nan 0.81627119        nan 0.80779661\n",
      "        nan 0.81322034        nan 0.80508475        nan 0.81864407\n",
      "        nan 0.81355932        nan 0.81966102        nan 0.80881356\n",
      "        nan 0.81627119        nan 0.80779661        nan 0.81322034\n",
      "        nan 0.80508475        nan 0.81864407        nan 0.81355932\n",
      "        nan 0.81966102        nan 0.80881356        nan 0.81627119\n",
      "        nan 0.80779661        nan 0.81322034        nan 0.80508475\n",
      "        nan 0.81864407        nan 0.81355932        nan 0.81966102\n",
      "        nan 0.80881356        nan 0.81627119        nan 0.80779661\n",
      "        nan 0.81322034        nan 0.80508475        nan 0.81864407\n",
      "        nan 0.81355932        nan 0.81966102        nan 0.80881356\n",
      "        nan 0.81627119        nan 0.80779661        nan 0.81322034\n",
      "        nan 0.80508475        nan 0.81864407        nan 0.81355932\n",
      "        nan 0.81966102        nan 0.80881356        nan 0.81627119\n",
      "        nan 0.80779661        nan 0.81322034        nan 0.80508475\n",
      "        nan 0.81864407        nan 0.81355932        nan 0.81966102\n",
      "        nan 0.80881356        nan 0.81627119        nan 0.80779661\n",
      "        nan 0.81322034        nan 0.80508475        nan 0.81864407\n",
      "        nan 0.81355932        nan 0.81966102        nan 0.80881356\n",
      "        nan 0.81627119        nan 0.80779661        nan 0.81322034\n",
      "        nan 0.80508475        nan 0.81864407        nan 0.81355932\n",
      "        nan 0.81966102        nan 0.80881356        nan 0.81627119\n",
      "        nan 0.80779661        nan 0.81322034        nan 0.80508475]\n",
      "  warnings.warn(\n"
     ]
    },
    {
     "name": "stdout",
     "output_type": "stream",
     "text": [
      "0.8196610169491525\n"
     ]
    },
    {
     "data": {
      "text/plain": [
       "{'cvec__max_df': 0.99,\n",
       " 'cvec__max_features': 2000,\n",
       " 'cvec__min_df': 2,\n",
       " 'cvec__stop_words': 'english',\n",
       " 'lr__penalty': 'l2'}"
      ]
     },
     "execution_count": 61,
     "metadata": {},
     "output_type": "execute_result"
    }
   ],
   "source": [
    "gs_1 = GridSearchCV(titles_pipeline_1,\n",
    "                 pipe_params,\n",
    "                 n_jobs = -1)\n",
    "\n",
    "gs.fit(Xtitles_train, ytitles_train)\n",
    "print(gs.best_score_)\n",
    "gs.best_params_"
   ]
  },
  {
   "cell_type": "markdown",
   "id": "4ca10d02-d0f1-4a59-8c6e-ad81b5d1064a",
   "metadata": {},
   "source": [
    "## Model Evaluation: Logistic Regression"
   ]
  },
  {
   "cell_type": "code",
   "execution_count": 62,
   "id": "4b3afe22-07aa-4bc0-8fc1-d28f4fdbe88e",
   "metadata": {},
   "outputs": [],
   "source": [
    "titles_predictions_1 = gs.predict(Xtitles_test)"
   ]
  },
  {
   "cell_type": "code",
   "execution_count": 63,
   "id": "22c5ae71-17ac-4a59-85db-3d8dcd6fd299",
   "metadata": {},
   "outputs": [
    {
     "name": "stdout",
     "output_type": "stream",
     "text": [
      "0.940677966101695\n",
      "0.8349381017881705\n"
     ]
    }
   ],
   "source": [
    "#Accuracy \n",
    "print(gs.score(Xtitles_train, ytitles_train))\n",
    "print(gs.score(Xtitles_test, ytitles_test))\n",
    "\n",
    "#.1 or more in general tends to be overfit. But consider the baseline score, if its tonnes better, then dont really matter. "
   ]
  },
  {
   "cell_type": "code",
   "execution_count": 64,
   "id": "c82640af-074f-4807-a6fa-93cf0c3aa6a9",
   "metadata": {},
   "outputs": [
    {
     "name": "stdout",
     "output_type": "stream",
     "text": [
      "0.05932203389830504\n",
      "0.16506189821182948\n"
     ]
    }
   ],
   "source": [
    "# Misclassification rate \n",
    "print(1 - gs.score(Xtitles_train, ytitles_train))\n",
    "print(1 - gs.score(Xtitles_test, ytitles_test))"
   ]
  },
  {
   "cell_type": "code",
   "execution_count": 65,
   "id": "be155e59-390c-473d-a75f-ed018c782cc4",
   "metadata": {},
   "outputs": [
    {
     "name": "stdout",
     "output_type": "stream",
     "text": [
      "Our model specificity: 0.8071428571428572\n"
     ]
    }
   ],
   "source": [
    "#Calculating Specificity\n",
    "#Confusion Matrix \n",
    "tn, fp, fn, tp = confusion_matrix(ytitles_test, titles_predictions).ravel()\n",
    "\n",
    "specificity = tn / (tn + fp)\n",
    "print(f'Our model specificity: {specificity}')"
   ]
  },
  {
   "cell_type": "code",
   "execution_count": 84,
   "id": "3c831bb6-e4c4-4b8e-933f-59255319c121",
   "metadata": {},
   "outputs": [
    {
     "data": {
      "image/png": "[encoded data removed]",
      "text/plain": [
       "<Figure size 640x480 with 2 Axes>"
      ]
     },
     "metadata": {},
     "output_type": "display_data"
    }
   ],
   "source": [
    "ConfusionMatrixDisplay.from_estimator(gs, Xtitles_test, ytitles_test, normalize = 'true');"
   ]
  },
  {
   "cell_type": "code",
   "execution_count": 67,
   "id": "1a1bbba7-37e0-4b5a-96ec-c4c998f4660e",
   "metadata": {},
   "outputs": [
    {
     "data": {
      "image/png": "[encoded data removed]",
      "text/plain": [
       "<Figure size 640x480 with 1 Axes>"
      ]
     },
     "metadata": {},
     "output_type": "display_data"
    }
   ],
   "source": [
    "RocCurveDisplay.from_estimator(gs, Xtitles_test, ytitles_test);\n",
    "# how is the model doing at different classification thresholds. the closer to a right angle the better the model is?"
   ]
  },
  {
   "cell_type": "code",
   "execution_count": 90,
   "id": "4ac692d3-c552-4316-8c6d-71a4bf635512",
   "metadata": {
    "scrolled": true
   },
   "outputs": [
    {
     "data": {
      "text/plain": [
       "'              precision    recall  f1-score   support\\n\\n           0       0.84      0.81      0.82       700\\n           1       0.83      0.86      0.84       754\\n\\n    accuracy                           0.83      1454\\n   macro avg       0.84      0.83      0.83      1454\\nweighted avg       0.84      0.83      0.83      1454\\n'"
      ]
     },
     "execution_count": 90,
     "metadata": {},
     "output_type": "execute_result"
    }
   ],
   "source": [
    "classification_report(ytitles_test, titles_predictions)"
   ]
  },
  {
   "cell_type": "code",
   "execution_count": 91,
   "id": "52ab30bd-00fc-41e7-8a4c-e5f021487c51",
   "metadata": {},
   "outputs": [
    {
     "name": "stdout",
     "output_type": "stream",
     "text": [
      "              precision    recall  f1-score      support\n",
      "0              0.843284  0.807143  0.824818   700.000000\n",
      "1              0.827806  0.860743  0.843953   754.000000\n",
      "accuracy       0.834938  0.834938  0.834938     0.834938\n",
      "macro avg      0.835545  0.833943  0.834385  1454.000000\n",
      "weighted avg   0.835257  0.834938  0.834741  1454.000000\n"
     ]
    }
   ],
   "source": [
    "report = classification_report(ytitles_test, titles_predictions, output_dict=True)\n",
    "df = pd.DataFrame(report).transpose()\n",
    "print(df)"
   ]
  },
  {
   "cell_type": "code",
   "execution_count": null,
   "id": "0031cdf6-ea61-46a2-8ca4-809417a5e6bf",
   "metadata": {},
   "outputs": [],
   "source": []
  },
  {
   "cell_type": "code",
   "execution_count": 69,
   "id": "e358efa6-c1b4-47ea-8387-4326cf421563",
   "metadata": {},
   "outputs": [
    {
     "name": "stdout",
     "output_type": "stream",
     "text": [
      "Recall: 0.8607427055702918\n"
     ]
    }
   ],
   "source": [
    "# Checking recall, good for understanding how model deals with false negatives\n",
    "recall_1 = tp / (tp + fn)\n",
    "\n",
    "print(f'Recall: {recall_1}')"
   ]
  },
  {
   "cell_type": "markdown",
   "id": "3ee008a5-3294-4442-a0fb-c18b89ff0c78",
   "metadata": {},
   "source": [
    "# Modelling titles from r/DJs and r/musicians: Multinomial Naive Bayes"
   ]
  },
  {
   "cell_type": "markdown",
   "id": "a4e92b2d-7475-4252-9817-d21b42e0ea77",
   "metadata": {},
   "source": [
    "[Source](https://deepnote.com/app/emmanuelmicron/Spam-Detection-using-Multinomial-Naive-Bayes-Model-a9a6bc89-e723-4c32-8679-86a5ff1978f3#:~:text=The%20multinomial%20Naive%20Bayes%20classifier,as%20they%20give%20good%20results.)"
   ]
  },
  {
   "cell_type": "code",
   "execution_count": 70,
   "id": "34afabf8-89c8-4afc-b6f2-1048f3fd85cd",
   "metadata": {},
   "outputs": [],
   "source": [
    "titles_pipeline_2 = Pipeline([\n",
    "    ('cvec', CountVectorizer()),\n",
    "    ('NB', MultinomialNB())\n",
    "])"
   ]
  },
  {
   "cell_type": "code",
   "execution_count": 71,
   "id": "b0872266-0757-4aa2-b742-26d15f5d94c4",
   "metadata": {},
   "outputs": [],
   "source": [
    "pipe_params_2 = {\n",
    "    'cvec__max_features': [2000, 3000, 4000], # How many words the average person has in their lexicon \n",
    "    'cvec__stop_words': [None, 'english'], \n",
    "    'cvec__min_df': [2, 4], # \n",
    "    'cvec__max_df': [0.99, 0.95, 0.8], \n",
    "    'NB__alpha': [0.1, 0.5, 1.0]\n",
    "}"
   ]
  },
  {
   "cell_type": "code",
   "execution_count": 72,
   "id": "204601a9-8456-4494-9b0e-f8091ce93dec",
   "metadata": {
    "scrolled": true
   },
   "outputs": [
    {
     "name": "stdout",
     "output_type": "stream",
     "text": [
      "0.8233898305084745\n"
     ]
    },
    {
     "data": {
      "text/plain": [
       "{'NB__alpha': 1.0,\n",
       " 'cvec__max_df': 0.99,\n",
       " 'cvec__max_features': 2000,\n",
       " 'cvec__min_df': 2,\n",
       " 'cvec__stop_words': 'english'}"
      ]
     },
     "execution_count": 72,
     "metadata": {},
     "output_type": "execute_result"
    }
   ],
   "source": [
    "gs_2 = GridSearchCV(titles_pipeline_2,\n",
    "                 pipe_params_2,\n",
    "                 n_jobs = -1)\n",
    "\n",
    "gs_2.fit(Xtitles_train, ytitles_train)\n",
    "print(gs_2.best_score_)\n",
    "gs_2.best_params_"
   ]
  },
  {
   "cell_type": "markdown",
   "id": "86e33819-0d66-4770-86c8-f8b1331a7105",
   "metadata": {},
   "source": [
    "## Model Evaluation: Multinomial Naive Bayes"
   ]
  },
  {
   "cell_type": "code",
   "execution_count": 73,
   "id": "60a86247-956b-4040-acd1-87f212e0b555",
   "metadata": {},
   "outputs": [],
   "source": [
    "titles_predictions_2 = gs_2.predict(Xtitles_test)"
   ]
  },
  {
   "cell_type": "code",
   "execution_count": 74,
   "id": "91cde949-5773-4574-886c-762bb10f2db1",
   "metadata": {},
   "outputs": [
    {
     "name": "stdout",
     "output_type": "stream",
     "text": [
      "0.8986440677966102\n",
      "0.8459422283356258\n"
     ]
    }
   ],
   "source": [
    "#Accuracy \n",
    "print(gs_2.score(Xtitles_train, ytitles_train))\n",
    "print(gs_2.score(Xtitles_test, ytitles_test))\n",
    "\n",
    "#.1 or more in general tends to be overfit. But consider the baseline score, if its tonnes better, then dont really matter. "
   ]
  },
  {
   "cell_type": "code",
   "execution_count": 75,
   "id": "0b61a903-253f-437b-afaa-d4e836a0416d",
   "metadata": {},
   "outputs": [
    {
     "name": "stdout",
     "output_type": "stream",
     "text": [
      "0.10135593220338979\n",
      "0.15405777166437418\n"
     ]
    }
   ],
   "source": [
    "# Misclassification rate \n",
    "print(1 - gs_2.score(Xtitles_train, ytitles_train))\n",
    "print(1 - gs_2.score(Xtitles_test, ytitles_test))"
   ]
  },
  {
   "cell_type": "code",
   "execution_count": 76,
   "id": "0eb4a50b-9d5a-4922-8ab9-a7f0336f6d0e",
   "metadata": {},
   "outputs": [
    {
     "name": "stdout",
     "output_type": "stream",
     "text": [
      "Our model specificity: 0.8257142857142857\n"
     ]
    }
   ],
   "source": [
    "#Calculating Specificity\n",
    "#Confusion Matrix \n",
    "tn, fp, fn, tp = confusion_matrix(ytitles_test, titles_predictions_2).ravel()\n",
    "\n",
    "specificity_2 = tn / (tn + fp)\n",
    "print(f'Our model specificity: {specificity_2}')"
   ]
  },
  {
   "cell_type": "code",
   "execution_count": 85,
   "id": "c7810743-9b98-4751-b786-c89763a9e724",
   "metadata": {},
   "outputs": [
    {
     "data": {
      "image/png": "[encoded data removed]",
      "text/plain": [
       "<Figure size 640x480 with 2 Axes>"
      ]
     },
     "metadata": {},
     "output_type": "display_data"
    }
   ],
   "source": [
    "ConfusionMatrixDisplay.from_estimator(gs_2, Xtitles_test, ytitles_test, normalize = 'true');"
   ]
  },
  {
   "cell_type": "code",
   "execution_count": 78,
   "id": "54c9174e-6d69-47a3-9903-ecd968c1f5eb",
   "metadata": {},
   "outputs": [
    {
     "data": {
      "image/png": "[encoded data removed]",
      "text/plain": [
       "<Figure size 640x480 with 1 Axes>"
      ]
     },
     "metadata": {},
     "output_type": "display_data"
    }
   ],
   "source": [
    "RocCurveDisplay.from_estimator(gs_2, Xtitles_test, ytitles_test);\n",
    "# how is the model doing at different classification thresholds. the closer to a right angle the better the model is \"Explanation from Hank Butler\". "
   ]
  },
  {
   "cell_type": "code",
   "execution_count": 93,
   "id": "d813efc9-2280-4f91-a2bc-cd553e3392cf",
   "metadata": {},
   "outputs": [
    {
     "name": "stdout",
     "output_type": "stream",
     "text": [
      "              precision    recall  f1-score      support\n",
      "0              0.843284  0.807143  0.824818   700.000000\n",
      "1              0.827806  0.860743  0.843953   754.000000\n",
      "accuracy       0.834938  0.834938  0.834938     0.834938\n",
      "macro avg      0.835545  0.833943  0.834385  1454.000000\n",
      "weighted avg   0.835257  0.834938  0.834741  1454.000000\n"
     ]
    }
   ],
   "source": [
    "classification_report(ytitles_test, titles_predictions_2)\n",
    "report2 = classification_report(ytitles_test, titles_predictions_2, output_dict=True)\n",
    "df2 = pd.DataFrame(report).transpose()\n",
    "print(df2)"
   ]
  },
  {
   "cell_type": "code",
   "execution_count": 80,
   "id": "504dc44a-71cf-404b-b253-f4d88539da6a",
   "metadata": {},
   "outputs": [
    {
     "name": "stdout",
     "output_type": "stream",
     "text": [
      "Recall: 0.8647214854111406\n"
     ]
    }
   ],
   "source": [
    "# Checking recall, good for understanding how model deals with false negatives\n",
    "recall_2 = tp / (tp + fn)\n",
    "\n",
    "print(f'Recall: {recall_2}')"
   ]
  },
  {
   "cell_type": "code",
   "execution_count": null,
   "id": "52354961-7fe8-4f71-86b0-a88484edfa2b",
   "metadata": {},
   "outputs": [],
   "source": []
  },
  {
   "cell_type": "markdown",
   "id": "812beb63-6486-4f63-8af7-3dcd57781822",
   "metadata": {},
   "source": [
    "# Evaluation Summary \n",
    "\n",
    "Based on the accuracy scores of the Logistic Regression, 94% of the instances in the training set, and, 83% of the instances in the testing set were classified correctly (which indicates some overfitting of the model to the training set). Similarly, the multinomial naive bayes model achieved a training accuracy of 90% and a testing accuracy of 85% (less overfitting than Logsitic Regression model). Both of these models beat the baseline accuracy of 0.52 (majority class being 1:DJs).\n",
    "Based on specificity scores, the multinmial naive bayes model (0.83) is better able to identify posts from the musician class than the logistic regression (specificity of 0.81). \n",
    "\n",
    "The F1 scores (balance between precision and recall) show that both models achieved a balanced performance between precision and recall with precision being a measure of the the proportion of positive identifications that were correct for the DJs subreddit (class 1), while recall measures the porportion of actual positive cases that were correctly identified. "
   ]
  },
  {
   "cell_type": "code",
   "execution_count": null,
   "id": "b0eff317-4c05-43d5-9943-1ae2aeb46be4",
   "metadata": {},
   "outputs": [],
   "source": []
  }
 ],
 "metadata": {
  "kernelspec": {
   "display_name": "Python 3 (ipykernel)",
   "language": "python",
   "name": "python3"
  },
  "language_info": {
   "codemirror_mode": {
    "name": "ipython",
    "version": 3
   },
   "file_extension": ".py",
   "mimetype": "text/x-python",
   "name": "python",
   "nbconvert_exporter": "python",
   "pygments_lexer": "ipython3",
   "version": "3.12.0"
  }
 },
 "nbformat": 4,
 "nbformat_minor": 5
}
