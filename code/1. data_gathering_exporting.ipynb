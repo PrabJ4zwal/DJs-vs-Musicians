{
 "cells": [
  {
   "cell_type": "markdown",
   "id": "d6052f70-c3f6-4971-a57a-3051fecda967",
   "metadata": {},
   "source": [
    "# Setting up Reddit's API"
   ]
  },
  {
   "cell_type": "code",
   "execution_count": 1,
   "id": "c3db8e41-ca54-43a3-8c41-413fdcab6482",
   "metadata": {},
   "outputs": [],
   "source": [
    "import pandas as pd \n",
    "import requests \n",
    "import time \n",
    "import getpass\n",
    "import praw"
   ]
  },
  {
   "cell_type": "code",
   "execution_count": null,
   "id": "fc0f82b0-ed9e-4f2e-a0ca-51a172df1492",
   "metadata": {},
   "outputs": [],
   "source": [
    "client_id = getpass.getpass()\n",
    "client_secret = getpass.getpass()\n",
    "user_agent = getpass.getpass()\n",
    "username = getpass.getpass()\n",
    "password = getpass.getpass()"
   ]
  },
  {
   "cell_type": "code",
   "execution_count": 5,
   "id": "5a287c2a-df2f-4c31-ad35-7b7d4bf9a8b3",
   "metadata": {},
   "outputs": [],
   "source": [
    "auth = requests.auth.HTTPBasicAuth(client_id, client_secret)\n",
    "\n",
    "data = {\n",
    "    'grant_type': 'password',\n",
    "    'username': username,\n",
    "    'password': password\n",
    "}"
   ]
  },
  {
   "cell_type": "code",
   "execution_count": 6,
   "id": "614b23b8-e7a4-4106-994a-41f9ce0265d2",
   "metadata": {
    "collapsed": true,
    "jupyter": {
     "outputs_hidden": true
    },
    "scrolled": true
   },
   "outputs": [
    {
     "name": "stdout",
     "output_type": "stream",
     "text": [
      "<Response [200]>\n"
     ]
    }
   ],
   "source": [
    "#create an informative header for your application\n",
    "headers = {'User-Agent': 'dsb318/0.0.1'}\n",
    "\n",
    "res = requests.post(\n",
    "    'https://www.reddit.com/api/v1/access_token',\n",
    "    auth=auth,\n",
    "    data=data,\n",
    "    headers=headers)\n",
    "\n",
    "print(res)"
   ]
  },
  {
   "cell_type": "code",
   "execution_count": 9,
   "id": "4fde4066-b569-48a1-969b-449657373a9b",
   "metadata": {
    "scrolled": true
   },
   "outputs": [],
   "source": [
    "# Retreieve access token\n",
    "token = res.json()['access_token']"
   ]
  },
  {
   "cell_type": "code",
   "execution_count": 10,
   "id": "6978cd26-212a-440a-909e-ffa3e7021546",
   "metadata": {},
   "outputs": [
    {
     "data": {
      "text/plain": [
       "True"
      ]
     },
     "execution_count": 10,
     "metadata": {},
     "output_type": "execute_result"
    }
   ],
   "source": [
    "headers['Authorization'] = f'bearer {token}'\n",
    "\n",
    "requests.get('https://oauth.reddit.com/api/v1/me', headers=headers).status_code == 200"
   ]
  },
  {
   "cell_type": "markdown",
   "id": "2e0c5bf9-6c27-4d22-a964-92ee2db79da2",
   "metadata": {},
   "source": [
    "---\n",
    "# Getting data from r/musicians "
   ]
  },
  {
   "cell_type": "markdown",
   "id": "bb4a3596-8a33-4032-8441-8f8c8670ea42",
   "metadata": {},
   "source": [
    "## Manual Method"
   ]
  },
  {
   "cell_type": "code",
   "execution_count": 32,
   "id": "2004ceea-0178-4208-a5f3-b85d773aaa46",
   "metadata": {
    "scrolled": true
   },
   "outputs": [
    {
     "data": {
      "text/plain": [
       "'Anyone know of any good and good priced DAWs? I only know of FL Studio rn but due to shallow pockets I can’t really get that right now. If there’s any cheaper ones that work well please let me know, it would be greatly appreciated.'"
      ]
     },
     "execution_count": 32,
     "metadata": {},
     "output_type": "execute_result"
    }
   ],
   "source": [
    "# Viewing an individual post\n",
    "#musicians['data']['children'][24]['data']['selftext']"
   ]
  },
  {
   "cell_type": "code",
   "execution_count": 53,
   "id": "bc7785e7-d34d-413b-b03b-636355d946ef",
   "metadata": {},
   "outputs": [
    {
     "name": "stdout",
     "output_type": "stream",
     "text": [
      "No more submissions available.\n",
      "990\n"
     ]
    }
   ],
   "source": [
    "base_url = 'https://oauth.reddit.com/r/' #would modify this url to grab data from the hot / controversial\n",
    "subreddit = 'musicians'                  # try the praw (a python reddit api wrapper, read documentation)\n",
    "\n",
    "res = requests.get(base_url+subreddit, headers=headers)\n",
    "\n",
    "# This is our dictionary for musicians\n",
    "musicians = res.json()\n",
    "\n",
    "# Creating a response request loop so that it gets 1000 requests\n",
    "musicians_submissions = []\n",
    "target_submissions = 1000\n",
    "params = {'limit': 100}\n",
    "\n",
    "while len(musicians_submissions) < target_submissions:\n",
    "    \n",
    "    res = requests.get(base_url + subreddit, headers=headers, params=params)\n",
    "    \n",
    "    musicians_dict = res.json()\n",
    "    \n",
    "    if 'data' not in musicians_dict or 'children' not in musicians_dict['data'] or len(musicians_dict['data']['children']) == 0:\n",
    "        print(\"No more submissions available.\")\n",
    "        break\n",
    "    \n",
    "    musicians_submissions_data = musicians_dict['data']['children']\n",
    "    \n",
    "    for submission in musicians_submissions_data:\n",
    "        musicians_submissions.append(submission['data']['selftext'])\n",
    "    \n",
    "    if len(musicians_submissions_data) < params['limit']:\n",
    "        print(\"No more submissions available.\")\n",
    "        break\n",
    "    \n",
    "    last_submission_name = musicians_submissions_data[-1]['data']['name']\n",
    "    \n",
    "    params['after'] = last_submission_name\n",
    "\n",
    "print(len(musicians_submissions))\n"
   ]
  },
  {
   "cell_type": "code",
   "execution_count": 57,
   "id": "2a2fa14d-d11c-4809-a8b4-b924b16fc45d",
   "metadata": {
    "scrolled": true
   },
   "outputs": [],
   "source": [
    "# A list of all the selftext from musicians\n",
    "musicians_submissions\n",
    "# Creating a pandas dataframe for r/musicians, with all the self-text\n",
    "musicians_dataframe = pd.DataFrame(musicians_submissions, columns = ['selftext'])\n",
    "# Exporting to csv \n",
    "musicians_dataframe.to_csv('../data/musicians_dataframe.csv', index = False)"
   ]
  },
  {
   "cell_type": "markdown",
   "id": "fab8984f-b862-4c6b-b0b4-7f1d12197908",
   "metadata": {},
   "source": [
    "## Using PRAW (Python Reddit API wrapper)"
   ]
  },
  {
   "cell_type": "code",
   "execution_count": 62,
   "id": "fa16a714-f0e9-4894-bc97-727fc224cd04",
   "metadata": {},
   "outputs": [],
   "source": [
    "# Authenticating\n",
    "reddit = praw.Reddit(client_id=client_id, client_secret=client_secret, user_agent=user_agent)"
   ]
  },
  {
   "cell_type": "code",
   "execution_count": 77,
   "id": "9b29eaad-ae5c-4f47-8044-6f3f68c88a12",
   "metadata": {},
   "outputs": [],
   "source": [
    "# hot posts from r/musicians put into a dataframe and exported as csv \n",
    "\n",
    "musicians_hot_posts = []\n",
    "musicians_subreddit = reddit.subreddit('musicians')\n",
    "\n",
    "for post in musicians_subreddit.hot(limit=1000):\n",
    "    musicians_hot_posts.append([post.title, post.score, post.id, post.subreddit, post.url, post.num_comments, post.selftext, post.created])\n",
    "musicians_hot_posts_df = pd.DataFrame(musicians_hot_posts,columns=['title', 'score', 'id', 'subreddit', 'url', 'num_comments', 'body', 'created'])\n",
    "musicians_hot_posts_df.to_csv('../project-3/data/musicians_hot_posts_df.csv')"
   ]
  },
  {
   "cell_type": "code",
   "execution_count": 78,
   "id": "7cfe75b9-aa44-4c3c-9390-8c901a38144e",
   "metadata": {
    "scrolled": true
   },
   "outputs": [],
   "source": [
    "# new posts from r/musicians put into a dataframe and exported as csv \n",
    "musicians_new_posts = []\n",
    "#musicians_subreddit = reddit.subreddit('musicians') # already define this above\n",
    "\n",
    "for post in musicians_subreddit.new(limit=1000):\n",
    "    musicians_new_posts.append([post.title, post.score, post.id, post.subreddit, post.url, post.num_comments, post.selftext, post.created])\n",
    "musicians_new_posts_df = pd.DataFrame(musicians_new_posts,columns=['title', 'score', 'id', 'subreddit', 'url', 'num_comments', 'body', 'created'])\n",
    "musicians_new_posts_df.to_csv('../project-3/data/musicians_new_posts_df.csv')"
   ]
  },
  {
   "cell_type": "code",
   "execution_count": 85,
   "id": "427ecd50-5c02-4605-9c10-5fd4ef685ae4",
   "metadata": {},
   "outputs": [],
   "source": [
    "# top posts from r/musicians put into a dataframe and exported as csv \n",
    "musicians_top_posts = []\n",
    "#musicians_subreddit = reddit.subreddit('musicians') # already define this above\n",
    "\n",
    "for post in musicians_subreddit.top(limit=1000):\n",
    "    musicians_top_posts.append([post.title, post.score, post.id, post.subreddit, post.url, post.num_comments, post.selftext, post.created])\n",
    "musicians_top_posts_df = pd.DataFrame(musicians_top_posts,columns=['title', 'score', 'id', 'subreddit', 'url', 'num_comments', 'body', 'created'])\n",
    "musicians_top_posts_df.to_csv('../project-3/data/musicians_top_posts_df.csv')\n"
   ]
  },
  {
   "cell_type": "code",
   "execution_count": 86,
   "id": "dafc1116-2d5f-4aba-9e0c-646fb8d9dfd1",
   "metadata": {},
   "outputs": [],
   "source": [
    "# rising posts from r/musicians put into a dataframe and exported as csv \n",
    "musicians_rising_posts = []\n",
    "#musicians_subreddit = reddit.subreddit('musicians') # already define this above\n",
    "\n",
    "for post in musicians_subreddit.rising(limit=1000):\n",
    "    musicians_rising_posts.append([post.title, post.score, post.id, post.subreddit, post.url, post.num_comments, post.selftext, post.created])\n",
    "musicians_rising_posts_df = pd.DataFrame(musicians_rising_posts,columns=['title', 'score', 'id', 'subreddit', 'url', 'num_comments', 'body', 'created'])\n",
    "musicians_rising_posts_df.to_csv('../project-3/data/musicians_rising_posts_df.csv')"
   ]
  },
  {
   "cell_type": "markdown",
   "id": "46e60c62-77da-40a7-9df7-1e0d4815c844",
   "metadata": {},
   "source": [
    "---\n",
    "# Getting Data from r/DJs"
   ]
  },
  {
   "cell_type": "markdown",
   "id": "fe6643bf-61d0-42a8-929d-3ff762a759fd",
   "metadata": {},
   "source": [
    "## Using Manual Method"
   ]
  },
  {
   "cell_type": "code",
   "execution_count": 58,
   "id": "0236ee28-acbc-4482-910a-f51ea0158112",
   "metadata": {},
   "outputs": [
    {
     "name": "stdout",
     "output_type": "stream",
     "text": [
      "No more submissions available.\n",
      "924\n"
     ]
    }
   ],
   "source": [
    "base_url = 'https://oauth.reddit.com/r/'\n",
    "subreddit = 'DJs'                  \n",
    "\n",
    "#res = requests.get(base_url+subreddit, headers=headers)\n",
    "\n",
    "# This is our dictionary for musicians\n",
    "djs_dict = res.json()\n",
    "\n",
    "# Creating a response request loop so that it gets 1000 requests\n",
    "djs_submissions = []\n",
    "target_submissions = 1000\n",
    "params = {'limit': 100}\n",
    "\n",
    "while len(djs_submissions) < target_submissions:\n",
    "    \n",
    "    res = requests.get(base_url+subreddit, headers=headers, params=params)\n",
    "    \n",
    "    djs_dict = res.json()\n",
    "    \n",
    "    if 'data' not in djs_dict or 'children' not in djs_dict['data'] or len(djs_dict['data']['children']) == 0:\n",
    "        print(\"No more submissions available.\")\n",
    "        break\n",
    "    \n",
    "    djs_submissions_data = djs_dict['data']['children']\n",
    "    \n",
    "    for submission in djs_submissions_data:\n",
    "        djs_submissions.append(submission['data']['selftext'])\n",
    "    \n",
    "    if len(djs_submissions_data) < params['limit']:\n",
    "        print(\"No more submissions available.\")\n",
    "        break\n",
    "    \n",
    "    last_submission_name = djs_submissions_data[-1]['data']['name']\n",
    "    \n",
    "    params['after'] = last_submission_name\n",
    "\n",
    "print(len(djs_submissions))\n"
   ]
  },
  {
   "cell_type": "code",
   "execution_count": 59,
   "id": "98ae806d-0e2b-4818-a16f-5da898b425c3",
   "metadata": {},
   "outputs": [],
   "source": [
    "# A list of all the selftext from djs\n",
    "djs_submissions\n",
    "# Creating a pandas dataframe for r/djs, with all the self-text\n",
    "djs_dataframe = pd.DataFrame(djs_submissions, columns = ['selftext'])\n",
    "# Exporting to csv \n",
    "djs_dataframe.to_csv('../data/djs_dataframe.csv', index = False)"
   ]
  },
  {
   "cell_type": "markdown",
   "id": "8440f514-0265-4b99-a4f2-6a4cd8254404",
   "metadata": {},
   "source": [
    "## Using PRAW (Python Reddit API Wrapper) "
   ]
  },
  {
   "cell_type": "code",
   "execution_count": 87,
   "id": "bcce8621-8ba9-49d7-8ce1-fabeea965b96",
   "metadata": {},
   "outputs": [],
   "source": [
    "# hot posts from r/djs put into a dataframe and exported as csv \n",
    "djs_hot_posts = []\n",
    "djs_subreddit = reddit.subreddit('djs')\n",
    "\n",
    "for post in djs_subreddit.hot(limit=1000):\n",
    "    djs_hot_posts.append([post.title, post.score, post.id, post.subreddit, post.url, post.num_comments, post.selftext, post.created])\n",
    "djs_hot_posts_df = pd.DataFrame(djs_hot_posts,columns=['title', 'score', 'id', 'subreddit', 'url', 'num_comments', 'body', 'created'])\n",
    "djs_hot_posts_df.to_csv('../project-3/data/djs_hot_posts_df.csv')"
   ]
  },
  {
   "cell_type": "code",
   "execution_count": 88,
   "id": "57a6b73d-498d-42ef-a82e-3ff35c9021b1",
   "metadata": {},
   "outputs": [],
   "source": [
    "# new posts from r/djs put into a dataframe and exported as csv \n",
    "djs_new_posts = []\n",
    "#djs_subreddit = reddit.subreddit('djs') # already define this above\n",
    "\n",
    "for post in djs_subreddit.new(limit=1000):\n",
    "    djs_new_posts.append([post.title, post.score, post.id, post.subreddit, post.url, post.num_comments, post.selftext, post.created])\n",
    "djs_new_posts_df = pd.DataFrame(djs_new_posts,columns=['title', 'score', 'id', 'subreddit', 'url', 'num_comments', 'body', 'created'])\n",
    "djs_new_posts_df.to_csv('../project-3/data/djs_new_posts_df.csv')"
   ]
  },
  {
   "cell_type": "code",
   "execution_count": 89,
   "id": "c1246adb-cbd3-4f9e-bba1-9f117d71a9c0",
   "metadata": {},
   "outputs": [],
   "source": [
    "# top posts from r/djs put into a dataframe and exported as csv \n",
    "djs_top_posts = []\n",
    "#djs_subreddit = reddit.subreddit('djs') # already define this above\n",
    "\n",
    "for post in djs_subreddit.top(limit=1000):\n",
    "    djs_top_posts.append([post.title, post.score, post.id, post.subreddit, post.url, post.num_comments, post.selftext, post.created])\n",
    "djs_top_posts_df = pd.DataFrame(djs_top_posts,columns=['title', 'score', 'id', 'subreddit', 'url', 'num_comments', 'body', 'created'])\n",
    "djs_top_posts_df.to_csv('../project-3/data/djs_top_posts_df.csv')"
   ]
  },
  {
   "cell_type": "code",
   "execution_count": 90,
   "id": "5db6f378-f28f-402c-9a11-157c5a172fd1",
   "metadata": {},
   "outputs": [],
   "source": [
    "# rising posts from r/djs put into a dataframe and exported as csv \n",
    "djs_rising_posts = []\n",
    "#djs_subreddit = reddit.subreddit('djs') # already define this above\n",
    "\n",
    "for post in djs_subreddit.rising(limit=1000):\n",
    "    djs_rising_posts.append([post.title, post.score, post.id, post.subreddit, post.url, post.num_comments, post.selftext, post.created])\n",
    "djs_rising_posts_df = pd.DataFrame(djs_rising_posts,columns=['title', 'score', 'id', 'subreddit', 'url', 'num_comments', 'body', 'created'])\n",
    "djs_rising_posts_df.to_csv('../project-3/data/djs_rising_posts_df.csv')"
   ]
  }
 ],
 "metadata": {
  "kernelspec": {
   "display_name": "Python 3 (ipykernel)",
   "language": "python",
   "name": "python3"
  },
  "language_info": {
   "codemirror_mode": {
    "name": "ipython",
    "version": 3
   },
   "file_extension": ".py",
   "mimetype": "text/x-python",
   "name": "python",
   "nbconvert_exporter": "python",
   "pygments_lexer": "ipython3",
   "version": "3.12.0"
  }
 },
 "nbformat": 4,
 "nbformat_minor": 5
}
