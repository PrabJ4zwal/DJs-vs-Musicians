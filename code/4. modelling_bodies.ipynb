{
 "cells": [
  {
   "cell_type": "markdown",
   "id": "8f74f18f-f915-4bfb-982f-b09558c2f455",
   "metadata": {},
   "source": [
    "# Imports"
   ]
  },
  {
   "cell_type": "code",
   "execution_count": 39,
   "id": "20127baa-9f84-41e2-8bd1-25e29bc0dd46",
   "metadata": {},
   "outputs": [],
   "source": [
    "import pandas as pd\n",
    "import matplotlib.pyplot as plt\n",
    "from sklearn.model_selection import train_test_split, GridSearchCV\n",
    "from sklearn.pipeline import Pipeline\n",
    "from sklearn.naive_bayes import MultinomialNB\n",
    "from sklearn.linear_model import LogisticRegression\n",
    "from sklearn.metrics import ConfusionMatrixDisplay, RocCurveDisplay, confusion_matrix, classification_report\n",
    "# Import CountVectorizer and TFIDFVectorizer from feature_extraction.text.\n",
    "from sklearn.feature_extraction.text import CountVectorizer, TfidfVectorizer"
   ]
  },
  {
   "cell_type": "code",
   "execution_count": 40,
   "id": "52642304-8206-4569-bedf-acc2c711fce9",
   "metadata": {},
   "outputs": [
    {
     "name": "stdout",
     "output_type": "stream",
     "text": [
      "<class 'pandas.core.frame.DataFrame'>\n",
      "RangeIndex: 2754 entries, 0 to 2753\n",
      "Data columns (total 4 columns):\n",
      " #   Column          Non-Null Count  Dtype \n",
      "---  ------          --------------  ----- \n",
      " 0   Unnamed: 0      2754 non-null   int64 \n",
      " 1   subreddit       2754 non-null   object\n",
      " 2   body            2754 non-null   object\n",
      " 3   processed_body  2720 non-null   object\n",
      "dtypes: int64(1), object(3)\n",
      "memory usage: 86.2+ KB\n"
     ]
    }
   ],
   "source": [
    "bodies = pd.read_csv('../data/processed_bodies.csv')\n",
    "bodies.info()"
   ]
  },
  {
   "cell_type": "code",
   "execution_count": 41,
   "id": "e9ed1f22-e82c-4106-9810-7684ddbab092",
   "metadata": {},
   "outputs": [],
   "source": [
    "bodies.dropna(inplace = True)"
   ]
  },
  {
   "cell_type": "markdown",
   "id": "4d5ece25-81cb-4aca-99f7-e5d58c8ba8cc",
   "metadata": {},
   "source": [
    "# Modelling bodies from r/DJs and r/musicians: Logistic Regression"
   ]
  },
  {
   "cell_type": "markdown",
   "id": "5a6f2454-b36c-43ed-b7c1-8b2c54f3fab9",
   "metadata": {},
   "source": [
    "**TrainTestSpliting**"
   ]
  },
  {
   "cell_type": "code",
   "execution_count": 42,
   "id": "2833fb6e-9d62-4fa7-ac59-0e589601975f",
   "metadata": {},
   "outputs": [],
   "source": [
    "# Creating a binarized target column musicians:0, DJs:1\n",
    "bodies['labels'] = bodies['subreddit'].map({'musicians':0, 'DJs':1})"
   ]
  },
  {
   "cell_type": "code",
   "execution_count": 43,
   "id": "97e178af-04e7-431e-b06c-351b40784a45",
   "metadata": {},
   "outputs": [],
   "source": [
    "# Creating target(y) and predictor(X) variables\n",
    "ybodies = bodies['labels']\n",
    "Xbodies = bodies['processed_body']"
   ]
  },
  {
   "cell_type": "code",
   "execution_count": 44,
   "id": "2de4a82d-311f-4791-b944-af340191b401",
   "metadata": {},
   "outputs": [
    {
     "data": {
      "text/plain": [
       "labels\n",
       "1    0.515441\n",
       "0    0.484559\n",
       "Name: proportion, dtype: float64"
      ]
     },
     "execution_count": 44,
     "metadata": {},
     "output_type": "execute_result"
    }
   ],
   "source": [
    "ybodies.value_counts(normalize = True)"
   ]
  },
  {
   "cell_type": "code",
   "execution_count": 45,
   "id": "eac20e11-78f5-41c5-a3b5-6cc7b59afa44",
   "metadata": {},
   "outputs": [],
   "source": [
    "# Split the data into the training and testing sets.\n",
    "Xbodies_train, Xbodies_test, ybodies_train, ybodies_test = train_test_split(Xbodies,\n",
    "                                                    ybodies,\n",
    "                                                    test_size=0.33,\n",
    "                                                    stratify=ybodies,\n",
    "                                                    random_state=42)"
   ]
  },
  {
   "cell_type": "markdown",
   "id": "7279f6cf-20df-465a-86d4-20c254c5cc32",
   "metadata": {},
   "source": [
    "**Count Vectorizer and Logistic Regression: Gridsearching over the Pipeline**"
   ]
  },
  {
   "cell_type": "code",
   "execution_count": 46,
   "id": "645d0f70-6b3c-488b-bbe7-70e97687e9b4",
   "metadata": {},
   "outputs": [],
   "source": [
    "bodies_pipeline_1 = Pipeline([\n",
    "    ('cvec', CountVectorizer()),\n",
    "    ('lr', LogisticRegression())\n",
    "])"
   ]
  },
  {
   "cell_type": "code",
   "execution_count": 47,
   "id": "dcabfd77-9095-4ed2-9261-a82025e0bf1f",
   "metadata": {},
   "outputs": [],
   "source": [
    "pipe_params = {\n",
    "    'cvec__max_features': [2000, 3000, 4000], # How many words the average person has in their lexicon \n",
    "    'cvec__stop_words': [None, 'english'], \n",
    "    'cvec__min_df': [2, 4], # \n",
    "    'cvec__max_df': [0.99, 0.95, 0.8], \n",
    "    'lr__penalty': ['l1', 'l2', 'elasticnet', None]\n",
    "}"
   ]
  },
  {
   "cell_type": "code",
   "execution_count": 48,
   "id": "b2a94512-deca-4f61-b322-5dcb3ae7e1b8",
   "metadata": {
    "scrolled": true
   },
   "outputs": [
    {
     "name": "stdout",
     "output_type": "stream",
     "text": [
      "0.9165783531536956\n"
     ]
    },
    {
     "name": "stderr",
     "output_type": "stream",
     "text": [
      "/Library/Frameworks/Python.framework/Versions/3.12/lib/python3.12/site-packages/sklearn/model_selection/_validation.py:547: FitFailedWarning: \n",
      "360 fits failed out of a total of 720.\n",
      "The score on these train-test partitions for these parameters will be set to nan.\n",
      "If these failures are not expected, you can try to debug them by setting error_score='raise'.\n",
      "\n",
      "Below are more details about the failures:\n",
      "--------------------------------------------------------------------------------\n",
      "180 fits failed with the following error:\n",
      "Traceback (most recent call last):\n",
      "  File \"/Library/Frameworks/Python.framework/Versions/3.12/lib/python3.12/site-packages/sklearn/model_selection/_validation.py\", line 895, in _fit_and_score\n",
      "    estimator.fit(X_train, y_train, **fit_params)\n",
      "  File \"/Library/Frameworks/Python.framework/Versions/3.12/lib/python3.12/site-packages/sklearn/base.py\", line 1474, in wrapper\n",
      "    return fit_method(estimator, *args, **kwargs)\n",
      "           ^^^^^^^^^^^^^^^^^^^^^^^^^^^^^^^^^^^^^^\n",
      "  File \"/Library/Frameworks/Python.framework/Versions/3.12/lib/python3.12/site-packages/sklearn/pipeline.py\", line 475, in fit\n",
      "    self._final_estimator.fit(Xt, y, **last_step_params[\"fit\"])\n",
      "  File \"/Library/Frameworks/Python.framework/Versions/3.12/lib/python3.12/site-packages/sklearn/base.py\", line 1474, in wrapper\n",
      "    return fit_method(estimator, *args, **kwargs)\n",
      "           ^^^^^^^^^^^^^^^^^^^^^^^^^^^^^^^^^^^^^^\n",
      "  File \"/Library/Frameworks/Python.framework/Versions/3.12/lib/python3.12/site-packages/sklearn/linear_model/_logistic.py\", line 1172, in fit\n",
      "    solver = _check_solver(self.solver, self.penalty, self.dual)\n",
      "             ^^^^^^^^^^^^^^^^^^^^^^^^^^^^^^^^^^^^^^^^^^^^^^^^^^^\n",
      "  File \"/Library/Frameworks/Python.framework/Versions/3.12/lib/python3.12/site-packages/sklearn/linear_model/_logistic.py\", line 67, in _check_solver\n",
      "    raise ValueError(\n",
      "ValueError: Solver lbfgs supports only 'l2' or None penalties, got l1 penalty.\n",
      "\n",
      "--------------------------------------------------------------------------------\n",
      "180 fits failed with the following error:\n",
      "Traceback (most recent call last):\n",
      "  File \"/Library/Frameworks/Python.framework/Versions/3.12/lib/python3.12/site-packages/sklearn/model_selection/_validation.py\", line 895, in _fit_and_score\n",
      "    estimator.fit(X_train, y_train, **fit_params)\n",
      "  File \"/Library/Frameworks/Python.framework/Versions/3.12/lib/python3.12/site-packages/sklearn/base.py\", line 1474, in wrapper\n",
      "    return fit_method(estimator, *args, **kwargs)\n",
      "           ^^^^^^^^^^^^^^^^^^^^^^^^^^^^^^^^^^^^^^\n",
      "  File \"/Library/Frameworks/Python.framework/Versions/3.12/lib/python3.12/site-packages/sklearn/pipeline.py\", line 475, in fit\n",
      "    self._final_estimator.fit(Xt, y, **last_step_params[\"fit\"])\n",
      "  File \"/Library/Frameworks/Python.framework/Versions/3.12/lib/python3.12/site-packages/sklearn/base.py\", line 1474, in wrapper\n",
      "    return fit_method(estimator, *args, **kwargs)\n",
      "           ^^^^^^^^^^^^^^^^^^^^^^^^^^^^^^^^^^^^^^\n",
      "  File \"/Library/Frameworks/Python.framework/Versions/3.12/lib/python3.12/site-packages/sklearn/linear_model/_logistic.py\", line 1172, in fit\n",
      "    solver = _check_solver(self.solver, self.penalty, self.dual)\n",
      "             ^^^^^^^^^^^^^^^^^^^^^^^^^^^^^^^^^^^^^^^^^^^^^^^^^^^\n",
      "  File \"/Library/Frameworks/Python.framework/Versions/3.12/lib/python3.12/site-packages/sklearn/linear_model/_logistic.py\", line 67, in _check_solver\n",
      "    raise ValueError(\n",
      "ValueError: Solver lbfgs supports only 'l2' or None penalties, got elasticnet penalty.\n",
      "\n",
      "  warnings.warn(some_fits_failed_message, FitFailedWarning)\n",
      "/Library/Frameworks/Python.framework/Versions/3.12/lib/python3.12/site-packages/sklearn/model_selection/_search.py:1051: UserWarning: One or more of the test scores are non-finite: [       nan 0.91383261        nan 0.909437          nan 0.90889658\n",
      "        nan 0.90724673        nan 0.91218425        nan 0.9083381\n",
      "        nan 0.90834713        nan 0.90724673        nan 0.91383261\n",
      "        nan 0.91438055        nan 0.91164233        nan 0.91218877\n",
      "        nan 0.91053741        nan 0.90944001        nan 0.90834713\n",
      "        nan 0.90834864        nan 0.91657835        nan 0.91438356\n",
      "        nan 0.91164384        nan 0.91383863        nan 0.91053741\n",
      "        nan 0.90944001        nan 0.90834713        nan 0.90834864\n",
      "        nan 0.91383261        nan 0.909437          nan 0.90889658\n",
      "        nan 0.90724673        nan 0.91218425        nan 0.9083381\n",
      "        nan 0.90834713        nan 0.90724673        nan 0.91383261\n",
      "        nan 0.91438055        nan 0.91164233        nan 0.91218877\n",
      "        nan 0.91053741        nan 0.90944001        nan 0.90834713\n",
      "        nan 0.90834864        nan 0.91657835        nan 0.91438356\n",
      "        nan 0.91164384        nan 0.91383863        nan 0.91053741\n",
      "        nan 0.90944001        nan 0.90834713        nan 0.90834864\n",
      "        nan 0.91383261        nan 0.909437          nan 0.90889658\n",
      "        nan 0.90724673        nan 0.91218425        nan 0.9083381\n",
      "        nan 0.90834713        nan 0.90724673        nan 0.91383261\n",
      "        nan 0.91438055        nan 0.91164233        nan 0.91218877\n",
      "        nan 0.91053741        nan 0.90944001        nan 0.90834713\n",
      "        nan 0.90834864        nan 0.91657835        nan 0.91438356\n",
      "        nan 0.91164384        nan 0.91383863        nan 0.91053741\n",
      "        nan 0.90944001        nan 0.90834713        nan 0.90834864]\n",
      "  warnings.warn(\n"
     ]
    },
    {
     "data": {
      "text/plain": [
       "{'cvec__max_df': 0.99,\n",
       " 'cvec__max_features': 4000,\n",
       " 'cvec__min_df': 2,\n",
       " 'cvec__stop_words': None,\n",
       " 'lr__penalty': 'l2'}"
      ]
     },
     "execution_count": 48,
     "metadata": {},
     "output_type": "execute_result"
    }
   ],
   "source": [
    "gs_1 = GridSearchCV(bodies_pipeline_1,\n",
    "                 pipe_params,\n",
    "                 n_jobs = -1)\n",
    "\n",
    "gs_1.fit(Xbodies_train, ybodies_train)\n",
    "print(gs_1.best_score_)\n",
    "gs_1.best_params_\n",
    "\n",
    "# error due to solver , some penalties don't work with specific solvers - try changing to 'liblinear'."
   ]
  },
  {
   "cell_type": "markdown",
   "id": "4ca10d02-d0f1-4a59-8c6e-ad81b5d1064a",
   "metadata": {},
   "source": [
    "## Model Evaluation: Logistic Regression"
   ]
  },
  {
   "cell_type": "code",
   "execution_count": 49,
   "id": "4b3afe22-07aa-4bc0-8fc1-d28f4fdbe88e",
   "metadata": {},
   "outputs": [],
   "source": [
    "bodies_predictions_1 = gs_1.predict(Xbodies_test)"
   ]
  },
  {
   "cell_type": "code",
   "execution_count": 50,
   "id": "22c5ae71-17ac-4a59-85db-3d8dcd6fd299",
   "metadata": {},
   "outputs": [
    {
     "name": "stdout",
     "output_type": "stream",
     "text": [
      "0.9978046103183315\n",
      "0.9242761692650334\n"
     ]
    }
   ],
   "source": [
    "#Accuracy \n",
    "print(gs_1.score(Xbodies_train, ybodies_train))\n",
    "print(gs_1.score(Xbodies_test, ybodies_test))\n",
    "\n",
    "#.1 or more in general tends to be overfit. But consider the baseline score, if its tonnes better, then dont really matter. "
   ]
  },
  {
   "cell_type": "code",
   "execution_count": 51,
   "id": "c82640af-074f-4807-a6fa-93cf0c3aa6a9",
   "metadata": {},
   "outputs": [
    {
     "name": "stdout",
     "output_type": "stream",
     "text": [
      "0.002195389681668547\n",
      "0.07572383073496658\n"
     ]
    }
   ],
   "source": [
    "# Misclassification rate \n",
    "print(1 - gs_1.score(Xbodies_train, ybodies_train))\n",
    "print(1 - gs_1.score(Xbodies_test, ybodies_test))"
   ]
  },
  {
   "cell_type": "code",
   "execution_count": 52,
   "id": "be155e59-390c-473d-a75f-ed018c782cc4",
   "metadata": {},
   "outputs": [
    {
     "name": "stdout",
     "output_type": "stream",
     "text": [
      "Our model specificity: 0.9379310344827586\n"
     ]
    }
   ],
   "source": [
    "#Calculating Specificity\n",
    "#Confusion Matrix \n",
    "tn, fp, fn, tp = confusion_matrix(ybodies_test, bodies_predictions_1).ravel()\n",
    "\n",
    "specificity = tn / (tn + fp)\n",
    "print(f'Our model specificity: {specificity}')"
   ]
  },
  {
   "cell_type": "code",
   "execution_count": 68,
   "id": "3c831bb6-e4c4-4b8e-933f-59255319c121",
   "metadata": {},
   "outputs": [
    {
     "data": {
      "image/png": "[encoded data removed]",
      "text/plain": [
       "<Figure size 640x480 with 2 Axes>"
      ]
     },
     "metadata": {},
     "output_type": "display_data"
    }
   ],
   "source": [
    "ConfusionMatrixDisplay.from_estimator(gs_1, Xbodies_test, ybodies_test, normalize = 'true');"
   ]
  },
  {
   "cell_type": "code",
   "execution_count": 54,
   "id": "1a1bbba7-37e0-4b5a-96ec-c4c998f4660e",
   "metadata": {},
   "outputs": [
    {
     "data": {
      "image/png": "[encoded data removed]",
      "text/plain": [
       "<Figure size 640x480 with 1 Axes>"
      ]
     },
     "metadata": {},
     "output_type": "display_data"
    }
   ],
   "source": [
    "RocCurveDisplay.from_estimator(gs_1, Xbodies_test, ybodies_test);\n",
    "# how is the model doing at different classification thresholds. the closer to a right angle the better the model is?"
   ]
  },
  {
   "cell_type": "code",
   "execution_count": 55,
   "id": "4ac692d3-c552-4316-8c6d-71a4bf635512",
   "metadata": {},
   "outputs": [
    {
     "data": {
      "text/plain": [
       "'              precision    recall  f1-score   support\\n\\n           0       0.91      0.94      0.92       435\\n           1       0.94      0.91      0.93       463\\n\\n    accuracy                           0.92       898\\n   macro avg       0.92      0.92      0.92       898\\nweighted avg       0.92      0.92      0.92       898\\n'"
      ]
     },
     "execution_count": 55,
     "metadata": {},
     "output_type": "execute_result"
    }
   ],
   "source": [
    "classification_report(ybodies_test, bodies_predictions_1)"
   ]
  },
  {
   "cell_type": "code",
   "execution_count": 56,
   "id": "e358efa6-c1b4-47ea-8387-4326cf421563",
   "metadata": {},
   "outputs": [
    {
     "name": "stdout",
     "output_type": "stream",
     "text": [
      "Recall: 0.9114470842332614\n"
     ]
    }
   ],
   "source": [
    "# Checking recall, good for understanding how model deals with false negatives\n",
    "recall_1 = tp / (tp + fn)\n",
    "\n",
    "print(f'Recall: {recall_1}')"
   ]
  },
  {
   "cell_type": "markdown",
   "id": "3ee008a5-3294-4442-a0fb-c18b89ff0c78",
   "metadata": {},
   "source": [
    "# Modelling bodies from r/DJs and r/musicians: Multinomial Naive Bayes"
   ]
  },
  {
   "cell_type": "code",
   "execution_count": 57,
   "id": "34afabf8-89c8-4afc-b6f2-1048f3fd85cd",
   "metadata": {},
   "outputs": [],
   "source": [
    "bodies_pipeline_2 = Pipeline([\n",
    "    ('cvec', CountVectorizer()),\n",
    "    ('NB', MultinomialNB())\n",
    "])"
   ]
  },
  {
   "cell_type": "code",
   "execution_count": 58,
   "id": "b0872266-0757-4aa2-b742-26d15f5d94c4",
   "metadata": {},
   "outputs": [],
   "source": [
    "pipe_params_2 = {\n",
    "    'cvec__max_features': [2000, 3000, 4000], # How many words the average person has in their lexicon \n",
    "    'cvec__stop_words': [None, 'english'], \n",
    "    'cvec__min_df': [2, 4], # \n",
    "    'cvec__max_df': [0.99, 0.95, 0.8], \n",
    "    'NB__alpha': [0.1, 0.5, 1.0]\n",
    "}"
   ]
  },
  {
   "cell_type": "code",
   "execution_count": 59,
   "id": "204601a9-8456-4494-9b0e-f8091ce93dec",
   "metadata": {
    "scrolled": true
   },
   "outputs": [
    {
     "name": "stdout",
     "output_type": "stream",
     "text": [
      "0.9160334186361585\n"
     ]
    },
    {
     "data": {
      "text/plain": [
       "{'NB__alpha': 0.1,\n",
       " 'cvec__max_df': 0.99,\n",
       " 'cvec__max_features': 3000,\n",
       " 'cvec__min_df': 2,\n",
       " 'cvec__stop_words': None}"
      ]
     },
     "execution_count": 59,
     "metadata": {},
     "output_type": "execute_result"
    }
   ],
   "source": [
    "gs_2 = GridSearchCV(bodies_pipeline_2,\n",
    "                 pipe_params_2,\n",
    "                 n_jobs = -1)\n",
    "\n",
    "gs_2.fit(Xbodies_train, ybodies_train)\n",
    "print(gs_2.best_score_)\n",
    "gs_2.best_params_"
   ]
  },
  {
   "cell_type": "markdown",
   "id": "86e33819-0d66-4770-86c8-f8b1331a7105",
   "metadata": {},
   "source": [
    "## Model Evaluation: Multinomial Naive Bayes"
   ]
  },
  {
   "cell_type": "code",
   "execution_count": 60,
   "id": "60a86247-956b-4040-acd1-87f212e0b555",
   "metadata": {},
   "outputs": [],
   "source": [
    "bodies_predictions_2 = gs_2.predict(Xbodies_test)"
   ]
  },
  {
   "cell_type": "code",
   "execution_count": 61,
   "id": "91cde949-5773-4574-886c-762bb10f2db1",
   "metadata": {},
   "outputs": [
    {
     "name": "stdout",
     "output_type": "stream",
     "text": [
      "0.9560922063666301\n",
      "0.920935412026726\n"
     ]
    }
   ],
   "source": [
    "#Accuracy \n",
    "print(gs_2.score(Xbodies_train, ybodies_train))\n",
    "print(gs_2.score(Xbodies_test, ybodies_test))\n",
    "\n",
    "#.1 or more in general tends to be overfit. But consider the baseline score, if its tonnes better, then dont really matter. "
   ]
  },
  {
   "cell_type": "code",
   "execution_count": 62,
   "id": "0b61a903-253f-437b-afaa-d4e836a0416d",
   "metadata": {},
   "outputs": [
    {
     "name": "stdout",
     "output_type": "stream",
     "text": [
      "0.04390779363336994\n",
      "0.07906458797327398\n"
     ]
    }
   ],
   "source": [
    "# Misclassification rate \n",
    "print(1 - gs_2.score(Xbodies_train, ybodies_train))\n",
    "print(1 - gs_2.score(Xbodies_test, ybodies_test))"
   ]
  },
  {
   "cell_type": "code",
   "execution_count": 63,
   "id": "0eb4a50b-9d5a-4922-8ab9-a7f0336f6d0e",
   "metadata": {},
   "outputs": [
    {
     "name": "stdout",
     "output_type": "stream",
     "text": [
      "Our model specificity: 0.903448275862069\n"
     ]
    }
   ],
   "source": [
    "#Calculating Specificity\n",
    "#Confusion Matrix \n",
    "tn, fp, fn, tp = confusion_matrix(ybodies_test, bodies_predictions_2).ravel()\n",
    "\n",
    "specificity_2 = tn / (tn + fp)\n",
    "print(f'Our model specificity: {specificity_2}')"
   ]
  },
  {
   "cell_type": "code",
   "execution_count": 69,
   "id": "c7810743-9b98-4751-b786-c89763a9e724",
   "metadata": {},
   "outputs": [
    {
     "data": {
      "image/png": "[encoded data removed]",
      "text/plain": [
       "<Figure size 640x480 with 2 Axes>"
      ]
     },
     "metadata": {},
     "output_type": "display_data"
    }
   ],
   "source": [
    "ConfusionMatrixDisplay.from_estimator(gs_2, Xbodies_test, ybodies_test, normalize = 'true');"
   ]
  },
  {
   "cell_type": "code",
   "execution_count": 65,
   "id": "54c9174e-6d69-47a3-9903-ecd968c1f5eb",
   "metadata": {},
   "outputs": [
    {
     "data": {
      "image/png": "[encoded data removed]",
      "text/plain": [
       "<Figure size 640x480 with 1 Axes>"
      ]
     },
     "metadata": {},
     "output_type": "display_data"
    }
   ],
   "source": [
    "RocCurveDisplay.from_estimator(gs_2, Xbodies_test, ybodies_test);\n",
    "# how is the model doing at different classification thresholds. the closer to a right angle the better the model is \"Explanation from Hank Butler\". "
   ]
  },
  {
   "cell_type": "code",
   "execution_count": 66,
   "id": "d813efc9-2280-4f91-a2bc-cd553e3392cf",
   "metadata": {},
   "outputs": [
    {
     "data": {
      "text/plain": [
       "'              precision    recall  f1-score   support\\n\\n           0       0.93      0.90      0.92       435\\n           1       0.91      0.94      0.92       463\\n\\n    accuracy                           0.92       898\\n   macro avg       0.92      0.92      0.92       898\\nweighted avg       0.92      0.92      0.92       898\\n'"
      ]
     },
     "execution_count": 66,
     "metadata": {},
     "output_type": "execute_result"
    }
   ],
   "source": [
    "classification_report(ybodies_test, bodies_predictions_2)"
   ]
  },
  {
   "cell_type": "code",
   "execution_count": 67,
   "id": "504dc44a-71cf-404b-b253-f4d88539da6a",
   "metadata": {},
   "outputs": [
    {
     "name": "stdout",
     "output_type": "stream",
     "text": [
      "Recall: 0.937365010799136\n"
     ]
    }
   ],
   "source": [
    "# Checking recall, good for understanding how model deals with false negatives\n",
    "recall_2 = tp / (tp + fn)\n",
    "\n",
    "print(f'Recall: {recall_2}')"
   ]
  },
  {
   "cell_type": "markdown",
   "id": "549b066b-00b3-47be-a263-828e5783cacb",
   "metadata": {},
   "source": [
    "# Evaluation Summary\n",
    "\n",
    "In this instance (modelling bodies) the Logistic Regression model performs marginally better than Naive Bayes on accuracy metric. However I have however chosen not to place weight on this bodies notebook and instead favour the titles notebook for 2 reasons..\n",
    "\n",
    "1. Sample size is significantly smaller than the titles notebook.\n",
    "2. Whilst EDA showed that there were clear differences in top occuring words between djs and musicians post bodies, the higher overall word length of bodies (and larger discrepancy between maximum word length and minimum word length) means that there is a larger chance that text preprocessing with spaCY has removed contextuality of the bodies of text.\n",
    "3. Titles has a greater chance of capturing the most important essence of the post getting to the crux of the post more directly; titles are designed for this reason. "
   ]
  },
  {
   "cell_type": "code",
   "execution_count": null,
   "id": "60c25e8a-fdd2-42d8-9d7c-41919995292a",
   "metadata": {},
   "outputs": [],
   "source": []
  }
 ],
 "metadata": {
  "kernelspec": {
   "display_name": "Python 3 (ipykernel)",
   "language": "python",
   "name": "python3"
  },
  "language_info": {
   "codemirror_mode": {
    "name": "ipython",
    "version": 3
   },
   "file_extension": ".py",
   "mimetype": "text/x-python",
   "name": "python",
   "nbconvert_exporter": "python",
   "pygments_lexer": "ipython3",
   "version": "3.12.0"
  }
 },
 "nbformat": 4,
 "nbformat_minor": 5
}
